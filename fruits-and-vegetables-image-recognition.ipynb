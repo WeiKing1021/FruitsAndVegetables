{
 "cells": [
  {
   "cell_type": "code",
   "execution_count": 7,
   "id": "791aae2e",
   "metadata": {
    "execution": {
     "iopub.execute_input": "2022-04-06T19:09:30.920867Z",
     "iopub.status.busy": "2022-04-06T19:09:30.919181Z",
     "iopub.status.idle": "2022-04-06T19:09:31.236550Z",
     "shell.execute_reply": "2022-04-06T19:09:31.235677Z",
     "shell.execute_reply.started": "2022-04-06T18:54:24.012743Z"
    },
    "papermill": {
     "duration": 0.338705,
     "end_time": "2022-04-06T19:09:31.236770",
     "exception": false,
     "start_time": "2022-04-06T19:09:30.898065",
     "status": "completed"
    },
    "tags": []
   },
   "outputs": [],
   "source": [
    "import numpy as np\n",
    "import pandas as pd\n",
    "import os\n",
    "import cv2\n",
    "import matplotlib.pyplot as plt\n",
    "\n",
    "import warnings\n",
    "warnings.filterwarnings('ignore')"
   ]
  },
  {
   "cell_type": "code",
   "execution_count": 31,
   "id": "05e7ede1",
   "metadata": {},
   "outputs": [
    {
     "name": "stdout",
     "output_type": "stream",
     "text": [
      "Current path: \n",
      "d:\\WeiKi\\Desktop\\FruitsAndVegetables\n",
      "Num CPUs Available:  1\n",
      "Num GPUs Available:  0\n"
     ]
    }
   ],
   "source": [
    "import pathlib\n",
    "import tensorflow\n",
    "\n",
    "print('Current path: ')\n",
    "print(pathlib.Path().absolute())\n",
    "\n",
    "# os.environ['CUDA_VISIBLE_DEVICES'] = '0'\n",
    "print(\"Num CPUs Available: \", len(tensorflow.config.list_physical_devices('CPU')))\n",
    "print(\"Num GPUs Available: \", len(tensorflow.config.list_physical_devices('GPU')))"
   ]
  },
  {
   "cell_type": "code",
   "execution_count": 9,
   "id": "96a12c46",
   "metadata": {
    "execution": {
     "iopub.execute_input": "2022-04-06T19:09:31.283362Z",
     "iopub.status.busy": "2022-04-06T19:09:31.282685Z",
     "iopub.status.idle": "2022-04-06T19:09:31.304048Z",
     "shell.execute_reply": "2022-04-06T19:09:31.303587Z",
     "shell.execute_reply.started": "2022-04-06T18:54:24.287887Z"
    },
    "papermill": {
     "duration": 0.041562,
     "end_time": "2022-04-06T19:09:31.304170",
     "exception": false,
     "start_time": "2022-04-06T19:09:31.262608",
     "status": "completed"
    },
    "tags": []
   },
   "outputs": [
    {
     "data": {
      "text/plain": [
       "('Categories Count :', 36)"
      ]
     },
     "execution_count": 9,
     "metadata": {},
     "output_type": "execute_result"
    }
   ],
   "source": [
    "train_path = \"./input/fruit-and-vegetable-image-recognition/train\"\n",
    "validation_path = \"./input/fruit-and-vegetable-image-recognition/validation\"\n",
    "test_path  = \"./input/fruit-and-vegetable-image-recognition/test\"\n",
    "\n",
    "categories = os.listdir(train_path)\n",
    "categories.sort()\n",
    "\"Categories Count :\" ,len(categories)"
   ]
  },
  {
   "cell_type": "code",
   "execution_count": 10,
   "id": "8e1f8622",
   "metadata": {
    "execution": {
     "iopub.execute_input": "2022-04-06T19:09:31.350591Z",
     "iopub.status.busy": "2022-04-06T19:09:31.349731Z",
     "iopub.status.idle": "2022-04-06T19:11:58.010379Z",
     "shell.execute_reply": "2022-04-06T19:11:58.010886Z",
     "shell.execute_reply.started": "2022-04-06T18:54:24.307636Z"
    },
    "papermill": {
     "duration": 146.690334,
     "end_time": "2022-04-06T19:11:58.011053",
     "exception": false,
     "start_time": "2022-04-06T19:09:31.320719",
     "status": "completed"
    },
    "tags": []
   },
   "outputs": [
    {
     "data": {
      "text/plain": [
       "('Training Image Count', 3114)"
      ]
     },
     "execution_count": 10,
     "metadata": {},
     "output_type": "execute_result"
    }
   ],
   "source": [
    "train = []\n",
    "\n",
    "IMG_SIZE=100\n",
    "\n",
    "for category in categories:\n",
    "    folder = os.path.join(train_path,category)\n",
    "    label = categories.index(category)\n",
    "    \n",
    "    for file in os.listdir(folder):\n",
    "        file = os.path.join(folder,file)\n",
    "        img = cv2.imread(file)\n",
    "        #if type(img) == \"NoneType\":\n",
    "        #print(file)\n",
    "        \n",
    "        try:\n",
    "            img_arr = cv2.resize(img,(IMG_SIZE,IMG_SIZE))\n",
    "            train.append([img_arr,label])\n",
    "            \n",
    "        except:\n",
    "            pass\n",
    "        \n",
    "            \n",
    "\"Training Image Count\",len(train)"
   ]
  },
  {
   "cell_type": "code",
   "execution_count": 11,
   "id": "f6886344",
   "metadata": {
    "execution": {
     "iopub.execute_input": "2022-04-06T19:11:58.050449Z",
     "iopub.status.busy": "2022-04-06T19:11:58.049896Z",
     "iopub.status.idle": "2022-04-06T19:12:19.238408Z",
     "shell.execute_reply": "2022-04-06T19:12:19.237947Z",
     "shell.execute_reply.started": "2022-04-06T18:56:42.340097Z"
    },
    "papermill": {
     "duration": 21.210921,
     "end_time": "2022-04-06T19:12:19.238535",
     "exception": false,
     "start_time": "2022-04-06T19:11:58.027614",
     "status": "completed"
    },
    "tags": []
   },
   "outputs": [
    {
     "data": {
      "text/plain": [
       "(351, 0)"
      ]
     },
     "execution_count": 11,
     "metadata": {},
     "output_type": "execute_result"
    }
   ],
   "source": [
    "validation = []\n",
    "\n",
    "count = int(0)\n",
    "for category in categories:\n",
    "    folder = os.path.join(validation_path,category)\n",
    "    label = categories.index(category)\n",
    "    \n",
    "    for file in os.listdir(folder):\n",
    "        file = os.path.join(folder,file)\n",
    "        #print(file)\n",
    "        img = cv2.imread(file)\n",
    "        try:\n",
    "            img_arr = cv2.resize(img,(IMG_SIZE,IMG_SIZE))\n",
    "            validation.append([img_arr,label])\n",
    "        except:\n",
    "            count+=1\n",
    "            pass\n",
    "len(validation),count"
   ]
  },
  {
   "cell_type": "code",
   "execution_count": 12,
   "id": "25ed094f",
   "metadata": {
    "execution": {
     "iopub.execute_input": "2022-04-06T19:12:19.278943Z",
     "iopub.status.busy": "2022-04-06T19:12:19.278393Z",
     "iopub.status.idle": "2022-04-06T19:12:41.529622Z",
     "shell.execute_reply": "2022-04-06T19:12:41.528684Z",
     "shell.execute_reply.started": "2022-04-06T18:57:02.775799Z"
    },
    "papermill": {
     "duration": 22.274134,
     "end_time": "2022-04-06T19:12:41.529764",
     "exception": false,
     "start_time": "2022-04-06T19:12:19.255630",
     "status": "completed"
    },
    "tags": []
   },
   "outputs": [
    {
     "data": {
      "text/plain": [
       "359"
      ]
     },
     "execution_count": 12,
     "metadata": {},
     "output_type": "execute_result"
    }
   ],
   "source": [
    "test = []\n",
    "for category in categories:\n",
    "    folder = os.path.join(test_path,category)\n",
    "    label = categories.index(category)\n",
    "    \n",
    "    for file in os.listdir(folder):\n",
    "        file = os.path.join(folder,file)\n",
    "        img = cv2.imread(file)\n",
    "        try:\n",
    "            img_arr = cv2.resize(img,(IMG_SIZE,IMG_SIZE))\n",
    "            test.append([img_arr,label])\n",
    "        except:\n",
    "            pass\n",
    "len(test)"
   ]
  },
  {
   "cell_type": "code",
   "execution_count": 13,
   "id": "a5ef557e",
   "metadata": {
    "execution": {
     "iopub.execute_input": "2022-04-06T19:12:41.570705Z",
     "iopub.status.busy": "2022-04-06T19:12:41.570094Z",
     "iopub.status.idle": "2022-04-06T19:12:41.572706Z",
     "shell.execute_reply": "2022-04-06T19:12:41.573142Z",
     "shell.execute_reply.started": "2022-04-06T18:57:23.487739Z"
    },
    "papermill": {
     "duration": 0.025814,
     "end_time": "2022-04-06T19:12:41.573283",
     "exception": false,
     "start_time": "2022-04-06T19:12:41.547469",
     "status": "completed"
    },
    "tags": []
   },
   "outputs": [
    {
     "data": {
      "text/plain": [
       "('Train:', 3114, 'Validation:', 351, 'Test :', 359)"
      ]
     },
     "execution_count": 13,
     "metadata": {},
     "output_type": "execute_result"
    }
   ],
   "source": [
    "\"Train:\",len(train),\"Validation:\",len(validation),\"Test :\",len(test)"
   ]
  },
  {
   "cell_type": "code",
   "execution_count": 14,
   "id": "5ae2707e",
   "metadata": {
    "execution": {
     "iopub.execute_input": "2022-04-06T19:12:41.625455Z",
     "iopub.status.busy": "2022-04-06T19:12:41.623274Z",
     "iopub.status.idle": "2022-04-06T19:12:41.959269Z",
     "shell.execute_reply": "2022-04-06T19:12:41.958716Z",
     "shell.execute_reply.started": "2022-04-06T18:58:17.835487Z"
    },
    "papermill": {
     "duration": 0.368779,
     "end_time": "2022-04-06T19:12:41.959424",
     "exception": false,
     "start_time": "2022-04-06T19:12:41.590645",
     "status": "completed"
    },
    "tags": []
   },
   "outputs": [
    {
     "data": {
      "text/plain": [
       "(3114, 3114, 351, 351, 359, 359)"
      ]
     },
     "execution_count": 14,
     "metadata": {},
     "output_type": "execute_result"
    }
   ],
   "source": [
    "x_train = []\n",
    "y_train = []\n",
    "x_validation = []\n",
    "y_validation = []\n",
    "x_test = []\n",
    "y_test = []\n",
    "\n",
    "for features , label  in train:\n",
    "    x_train.append(features)\n",
    "    y_train.append(label)\n",
    "y_train = pd.get_dummies(y_train)\n",
    "for features , label  in validation:\n",
    "    x_validation.append(features)\n",
    "    y_validation.append(label)\n",
    "y_validation = pd.get_dummies(y_validation)\n",
    "for features , label  in test:\n",
    "    x_test.append(features)\n",
    "    y_test.append(label)\n",
    "y_test = pd.get_dummies(y_test)\n",
    "\n",
    "\n",
    "x_train = np.array(x_train)/255\n",
    "y_train = np.array(y_train)\n",
    "\n",
    "x_validation = np.array(x_validation)/255\n",
    "y_validation = np.array(y_validation)\n",
    "\n",
    "x_test = np.array(x_test)/255\n",
    "y_test = np.array(y_test)\n",
    "\n",
    "len(x_train),len(y_train),len(x_validation),len(y_validation),len(x_test),len(y_test)"
   ]
  },
  {
   "cell_type": "code",
   "execution_count": 15,
   "id": "df8b1121",
   "metadata": {
    "execution": {
     "iopub.execute_input": "2022-04-06T19:12:42.001080Z",
     "iopub.status.busy": "2022-04-06T19:12:42.000435Z",
     "iopub.status.idle": "2022-04-06T19:12:42.003118Z",
     "shell.execute_reply": "2022-04-06T19:12:42.003515Z",
     "shell.execute_reply.started": "2022-04-06T18:58:26.899512Z"
    },
    "papermill": {
     "duration": 0.026154,
     "end_time": "2022-04-06T19:12:42.003645",
     "exception": false,
     "start_time": "2022-04-06T19:12:41.977491",
     "status": "completed"
    },
    "tags": []
   },
   "outputs": [
    {
     "data": {
      "text/plain": [
       "((3114, 36), (351, 36), (359, 36))"
      ]
     },
     "execution_count": 15,
     "metadata": {},
     "output_type": "execute_result"
    }
   ],
   "source": [
    "y_train.shape,y_validation.shape,y_test.shape"
   ]
  },
  {
   "cell_type": "code",
   "execution_count": 36,
   "id": "bcfda8b5",
   "metadata": {
    "papermill": {
     "duration": 0.018295,
     "end_time": "2022-04-06T19:12:42.042315",
     "exception": false,
     "start_time": "2022-04-06T19:12:42.024020",
     "status": "completed"
    },
    "tags": []
   },
   "outputs": [
    {
     "name": "stdout",
     "output_type": "stream",
     "text": [
      "(3114, 100, 100, 3)\n"
     ]
    }
   ],
   "source": [
    "print(x_train.shape)"
   ]
  },
  {
   "cell_type": "markdown",
   "id": "7b0e0ce0",
   "metadata": {
    "papermill": {
     "duration": 0.018093,
     "end_time": "2022-04-06T19:12:42.078708",
     "exception": false,
     "start_time": "2022-04-06T19:12:42.060615",
     "status": "completed"
    },
    "tags": []
   },
   "source": [
    "# Create Model"
   ]
  },
  {
   "cell_type": "code",
   "execution_count": 16,
   "id": "51c0b461",
   "metadata": {
    "execution": {
     "iopub.execute_input": "2022-04-06T19:12:42.120167Z",
     "iopub.status.busy": "2022-04-06T19:12:42.119491Z",
     "iopub.status.idle": "2022-04-06T19:12:46.890343Z",
     "shell.execute_reply": "2022-04-06T19:12:46.889813Z",
     "shell.execute_reply.started": "2022-04-06T18:58:41.960641Z"
    },
    "papermill": {
     "duration": 4.793541,
     "end_time": "2022-04-06T19:12:46.890488",
     "exception": false,
     "start_time": "2022-04-06T19:12:42.096947",
     "status": "completed"
    },
    "tags": []
   },
   "outputs": [],
   "source": [
    "from keras.models import Sequential\n",
    "from keras.layers import Dense,Conv2D,MaxPooling2D,Flatten,Activation,BatchNormalization,Dropout\n"
   ]
  },
  {
   "cell_type": "code",
   "execution_count": 17,
   "id": "a9a40465",
   "metadata": {
    "execution": {
     "iopub.execute_input": "2022-04-06T19:12:46.945471Z",
     "iopub.status.busy": "2022-04-06T19:12:46.944917Z",
     "iopub.status.idle": "2022-04-06T19:12:49.106797Z",
     "shell.execute_reply": "2022-04-06T19:12:49.107259Z",
     "shell.execute_reply.started": "2022-04-06T18:58:55.089324Z"
    },
    "papermill": {
     "duration": 2.18931,
     "end_time": "2022-04-06T19:12:49.107417",
     "exception": false,
     "start_time": "2022-04-06T19:12:46.918107",
     "status": "completed"
    },
    "tags": []
   },
   "outputs": [],
   "source": [
    "model = Sequential()\n",
    "\n",
    "model.add(Conv2D(128,(3,3),activation=\"relu\"))\n",
    "model.add(MaxPooling2D(3,3))\n",
    "\n",
    "model.add(Conv2D(128,(5,5),activation=\"relu\"))\n",
    "model.add(MaxPooling2D(5,5)) \n",
    "\n",
    "\n",
    "model.add(Flatten())\n",
    "\n",
    "#-------------------\n",
    "\n",
    "model.add(Dense(128,input_shape = x_train.shape[1:],activation=\"relu\"))\n",
    "model.add(Dense(36,activation=\"softmax\"))"
   ]
  },
  {
   "cell_type": "code",
   "execution_count": 32,
   "id": "734cd70c",
   "metadata": {
    "execution": {
     "iopub.execute_input": "2022-04-06T19:12:49.157600Z",
     "iopub.status.busy": "2022-04-06T19:12:49.157033Z",
     "iopub.status.idle": "2022-04-06T19:13:16.795783Z",
     "shell.execute_reply": "2022-04-06T19:13:16.795303Z",
     "shell.execute_reply.started": "2022-04-06T18:59:23.791361Z"
    },
    "papermill": {
     "duration": 27.669182,
     "end_time": "2022-04-06T19:13:16.795938",
     "exception": false,
     "start_time": "2022-04-06T19:12:49.126756",
     "status": "completed"
    },
    "tags": []
   },
   "outputs": [
    {
     "name": "stdout",
     "output_type": "stream",
     "text": [
      "Epoch 1/15\n",
      "98/98 [==============================] - 146s 1s/step - loss: 2.5593 - accuracy: 0.2585 - val_loss: 2.0776 - val_accuracy: 0.3733\n",
      "Epoch 2/15\n",
      "98/98 [==============================] - 132s 1s/step - loss: 2.2216 - accuracy: 0.3372 - val_loss: 1.7226 - val_accuracy: 0.4596\n",
      "Epoch 3/15\n",
      "98/98 [==============================] - 128s 1s/step - loss: 2.0169 - accuracy: 0.3979 - val_loss: 1.4620 - val_accuracy: 0.5599\n",
      "Epoch 4/15\n",
      "98/98 [==============================] - 127s 1s/step - loss: 1.8595 - accuracy: 0.4441 - val_loss: 1.2223 - val_accuracy: 0.6602\n",
      "Epoch 5/15\n",
      "98/98 [==============================] - 125s 1s/step - loss: 1.6706 - accuracy: 0.4900 - val_loss: 1.1453 - val_accuracy: 0.6630\n",
      "Epoch 6/15\n",
      "98/98 [==============================] - 127s 1s/step - loss: 1.5487 - accuracy: 0.5244 - val_loss: 1.0905 - val_accuracy: 0.6741\n",
      "Epoch 7/15\n",
      "98/98 [==============================] - 126s 1s/step - loss: 1.4314 - accuracy: 0.5697 - val_loss: 1.2059 - val_accuracy: 0.6184\n",
      "Epoch 8/15\n",
      "98/98 [==============================] - 133s 1s/step - loss: 1.3430 - accuracy: 0.5909 - val_loss: 0.8280 - val_accuracy: 0.7855\n",
      "Epoch 9/15\n",
      "98/98 [==============================] - 125s 1s/step - loss: 1.2112 - accuracy: 0.6374 - val_loss: 0.7273 - val_accuracy: 0.8189\n",
      "Epoch 10/15\n",
      "98/98 [==============================] - 127s 1s/step - loss: 1.1265 - accuracy: 0.6493 - val_loss: 0.6741 - val_accuracy: 0.8301\n",
      "Epoch 11/15\n",
      "98/98 [==============================] - 126s 1s/step - loss: 0.9747 - accuracy: 0.7078 - val_loss: 0.5923 - val_accuracy: 0.8496\n",
      "Epoch 12/15\n",
      "98/98 [==============================] - 124s 1s/step - loss: 0.8787 - accuracy: 0.7338 - val_loss: 0.6283 - val_accuracy: 0.8357\n",
      "Epoch 13/15\n",
      "98/98 [==============================] - 128s 1s/step - loss: 0.7615 - accuracy: 0.7665 - val_loss: 0.5385 - val_accuracy: 0.8552\n",
      "Epoch 14/15\n",
      "98/98 [==============================] - 126s 1s/step - loss: 0.6680 - accuracy: 0.7967 - val_loss: 0.4185 - val_accuracy: 0.8942\n",
      "Epoch 15/15\n",
      "98/98 [==============================] - 125s 1s/step - loss: 0.5693 - accuracy: 0.8304 - val_loss: 0.4113 - val_accuracy: 0.9081\n"
     ]
    }
   ],
   "source": [
    "model.compile(optimizer=\"adam\",loss = \"categorical_crossentropy\",metrics=[\"accuracy\"])\n",
    "history = model.fit(x_train,y_train,epochs=15,validation_data=(x_test,y_test))"
   ]
  },
  {
   "cell_type": "code",
   "execution_count": 34,
   "id": "049185ef",
   "metadata": {
    "execution": {
     "iopub.execute_input": "2022-04-06T19:13:17.059711Z",
     "iopub.status.busy": "2022-04-06T19:13:17.059095Z",
     "iopub.status.idle": "2022-04-06T19:13:17.066486Z",
     "shell.execute_reply": "2022-04-06T19:13:17.066920Z",
     "shell.execute_reply.started": "2022-04-06T19:04:06.563263Z"
    },
    "papermill": {
     "duration": 0.141237,
     "end_time": "2022-04-06T19:13:17.067123",
     "exception": false,
     "start_time": "2022-04-06T19:13:16.925886",
     "status": "completed"
    },
    "tags": []
   },
   "outputs": [
    {
     "name": "stdout",
     "output_type": "stream",
     "text": [
      "Model: \"sequential_1\"\n",
      "_________________________________________________________________\n",
      " Layer (type)                Output Shape              Param #   \n",
      "=================================================================\n",
      " conv2d_2 (Conv2D)           (None, 98, 98, 128)       3584      \n",
      "                                                                 \n",
      " max_pooling2d_2 (MaxPooling  (None, 32, 32, 128)      0         \n",
      " 2D)                                                             \n",
      "                                                                 \n",
      " conv2d_3 (Conv2D)           (None, 28, 28, 128)       409728    \n",
      "                                                                 \n",
      " max_pooling2d_3 (MaxPooling  (None, 5, 5, 128)        0         \n",
      " 2D)                                                             \n",
      "                                                                 \n",
      " flatten_1 (Flatten)         (None, 3200)              0         \n",
      "                                                                 \n",
      " dense (Dense)               (None, 128)               409728    \n",
      "                                                                 \n",
      " dense_1 (Dense)             (None, 36)                4644      \n",
      "                                                                 \n",
      "=================================================================\n",
      "Total params: 827,684\n",
      "Trainable params: 827,684\n",
      "Non-trainable params: 0\n",
      "_________________________________________________________________\n"
     ]
    }
   ],
   "source": [
    "model.summary()"
   ]
  },
  {
   "cell_type": "code",
   "execution_count": 35,
   "id": "5e0677e6",
   "metadata": {
    "execution": {
     "iopub.execute_input": "2022-04-06T19:13:17.337563Z",
     "iopub.status.busy": "2022-04-06T19:13:17.336748Z",
     "iopub.status.idle": "2022-04-06T19:13:17.339254Z",
     "shell.execute_reply": "2022-04-06T19:13:17.338765Z",
     "shell.execute_reply.started": "2022-04-06T19:04:59.052608Z"
    },
    "papermill": {
     "duration": 0.136263,
     "end_time": "2022-04-06T19:13:17.339367",
     "exception": false,
     "start_time": "2022-04-06T19:13:17.203104",
     "status": "completed"
    },
    "tags": []
   },
   "outputs": [],
   "source": [
    "import matplotlib.pyplot as plt\n",
    "model.save('./keras_model.h5')"
   ]
  }
 ],
 "metadata": {
  "interpreter": {
   "hash": "64b46ea0119f5c4d89246277140b4461b394cb12479e1f471895b36e90dde4d6"
  },
  "kernelspec": {
   "display_name": "Python 3.5.6 ('fruits-and-vegetables')",
   "language": "python",
   "name": "python3"
  },
  "language_info": {
   "codemirror_mode": {
    "name": "ipython",
    "version": 3
   },
   "file_extension": ".py",
   "mimetype": "text/x-python",
   "name": "python",
   "nbconvert_exporter": "python",
   "pygments_lexer": "ipython3",
   "version": "3.7.13"
  },
  "papermill": {
   "default_parameters": {},
   "duration": 238.364714,
   "end_time": "2022-04-06T19:13:21.447939",
   "environment_variables": {},
   "exception": null,
   "input_path": "__notebook__.ipynb",
   "output_path": "__notebook__.ipynb",
   "parameters": {},
   "start_time": "2022-04-06T19:09:23.083225",
   "version": "2.3.3"
  }
 },
 "nbformat": 4,
 "nbformat_minor": 5
}
