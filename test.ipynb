{
 "cells": [
  {
   "cell_type": "code",
   "execution_count": 1,
   "metadata": {},
   "outputs": [],
   "source": [
    "import numpy as np\n",
    "import pandas as pd\n",
    "import os\n",
    "import cv2\n",
    "import matplotlib.pyplot as plt\n",
    "import tensorflow\n",
    "from keras.models import Sequential"
   ]
  },
  {
   "cell_type": "code",
   "execution_count": 2,
   "metadata": {},
   "outputs": [
    {
     "name": "stdout",
     "output_type": "stream",
     "text": [
      "Model: \"sequential_1\"\n",
      "_________________________________________________________________\n",
      " Layer (type)                Output Shape              Param #   \n",
      "=================================================================\n",
      " conv2d_2 (Conv2D)           (None, 98, 98, 128)       3584      \n",
      "                                                                 \n",
      " max_pooling2d_2 (MaxPooling  (None, 32, 32, 128)      0         \n",
      " 2D)                                                             \n",
      "                                                                 \n",
      " conv2d_3 (Conv2D)           (None, 28, 28, 128)       409728    \n",
      "                                                                 \n",
      " max_pooling2d_3 (MaxPooling  (None, 5, 5, 128)        0         \n",
      " 2D)                                                             \n",
      "                                                                 \n",
      " flatten_1 (Flatten)         (None, 3200)              0         \n",
      "                                                                 \n",
      " dense (Dense)               (None, 128)               409728    \n",
      "                                                                 \n",
      " dense_1 (Dense)             (None, 36)                4644      \n",
      "                                                                 \n",
      "=================================================================\n",
      "Total params: 827,684\n",
      "Trainable params: 827,684\n",
      "Non-trainable params: 0\n",
      "_________________________________________________________________\n"
     ]
    }
   ],
   "source": [
    "model: Sequential = tensorflow.keras.models.load_model('./keras_model.h5');\n",
    "\n",
    "model.summary()"
   ]
  },
  {
   "cell_type": "code",
   "execution_count": 3,
   "metadata": {},
   "outputs": [
    {
     "name": "stdout",
     "output_type": "stream",
     "text": [
      "['apple', 'banana', 'beetroot', 'bell pepper', 'cabbage', 'capsicum', 'carrot', 'cauliflower', 'chilli pepper', 'corn', 'cucumber', 'eggplant', 'garlic', 'ginger', 'grapes', 'jalepeno', 'kiwi', 'lemon', 'lettuce', 'mango', 'onion', 'orange', 'paprika', 'pear', 'peas', 'pineapple', 'pomegranate', 'potato', 'raddish', 'soy beans', 'spinach', 'sweetcorn', 'sweetpotato', 'tomato', 'turnip', 'watermelon']\n"
     ]
    }
   ],
   "source": [
    "train_path = \"./input/fruit-and-vegetable-image-recognition/train\"\n",
    "test_path  = \"./input/fruit-and-vegetable-image-recognition/test\"\n",
    "\n",
    "IMG_SIZE=100\n",
    "\n",
    "categories = os.listdir(train_path)\n",
    "categories.sort()\n",
    "\n",
    "print(categories)"
   ]
  },
  {
   "cell_type": "code",
   "execution_count": 8,
   "metadata": {},
   "outputs": [
    {
     "name": "stdout",
     "output_type": "stream",
     "text": [
      "Most like to: carrot\n"
     ]
    }
   ],
   "source": [
    "def predict(img) -> int:\n",
    "\n",
    "    result = model.predict(np.array([img]))\n",
    "\n",
    "    posible = -1\n",
    "    posibleWeight = -1\n",
    "\n",
    "    for index in range(len(result[0])):\n",
    "        if (posibleWeight < result[0][index]):\n",
    "            posible = index\n",
    "            posibleWeight = result[0][index]\n",
    "\n",
    "    return posible\n",
    "\n",
    "IMG_SIZE = 100\n",
    "\n",
    "img = cv2.imread('./input.jpg')\n",
    "img = cv2.resize(img, (IMG_SIZE, IMG_SIZE))\n",
    "img = np.array(img) / 255\n",
    "\n",
    "print('Most like to: ' + categories[predict(img)])"
   ]
  },
  {
   "cell_type": "code",
   "execution_count": 6,
   "metadata": {},
   "outputs": [
    {
     "name": "stdout",
     "output_type": "stream",
     "text": [
      " * Serving Flask app '__main__' (lazy loading)\n",
      " * Environment: production\n",
      "\u001b[31m   WARNING: This is a development server. Do not use it in a production deployment.\u001b[0m\n",
      "\u001b[2m   Use a production WSGI server instead.\u001b[0m\n",
      " * Debug mode: off\n"
     ]
    },
    {
     "name": "stderr",
     "output_type": "stream",
     "text": [
      " * Running on all addresses (0.0.0.0)\n",
      "   WARNING: This is a development server. Do not use it in a production deployment.\n",
      " * Running on http://127.0.0.1:5000\n",
      " * Running on http://192.168.1.130:5000 (Press CTRL+C to quit)\n"
     ]
    }
   ],
   "source": [
    "from flask import Flask, request, Response\n",
    "import jsonpickle\n",
    "import numpy as np\n",
    "import cv2\n",
    "\n",
    "# Initialize the Flask application\n",
    "app = Flask(__name__)\n",
    "\n",
    "\n",
    "# route http posts to this method\n",
    "@app.route('/api/test', methods=['POST'])\n",
    "def test():\n",
    "    r = request\n",
    "    # convert string of image data to uint8\n",
    "    nparr = np.fromstring(r.data, np.uint8)\n",
    "    # decode image\n",
    "    img = cv2.imdecode(nparr, cv2.IMREAD_COLOR)\n",
    "\n",
    "    # do some fancy processing here....\n",
    "\n",
    "    # build a response dict to send back to client\n",
    "    response = {'message': 'image received. size={}x{}'.format(img.shape[1], img.shape[0])\n",
    "                }\n",
    "    # encode response using jsonpickle\n",
    "    response_pickled = jsonpickle.encode(response)\n",
    "\n",
    "    return Response(response=response_pickled, status=200, mimetype=\"application/json\")\n",
    "\n",
    "\n",
    "# start flask app\n",
    "app.run(host=\"0.0.0.0\", port=5000)"
   ]
  }
 ],
 "metadata": {
  "interpreter": {
   "hash": "64b46ea0119f5c4d89246277140b4461b394cb12479e1f471895b36e90dde4d6"
  },
  "kernelspec": {
   "display_name": "Python 3.7.13 ('fruits-and-vegetables')",
   "language": "python",
   "name": "python3"
  },
  "language_info": {
   "codemirror_mode": {
    "name": "ipython",
    "version": 3
   },
   "file_extension": ".py",
   "mimetype": "text/x-python",
   "name": "python",
   "nbconvert_exporter": "python",
   "pygments_lexer": "ipython3",
   "version": "3.7.13"
  },
  "orig_nbformat": 4
 },
 "nbformat": 4,
 "nbformat_minor": 2
}
